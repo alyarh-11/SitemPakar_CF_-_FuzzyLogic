{
  "nbformat": 4,
  "nbformat_minor": 0,
  "metadata": {
    "colab": {
      "provenance": [],
      "authorship_tag": "ABX9TyMJi4OtphqEncMX1OMpv0FU",
      "include_colab_link": true
    },
    "kernelspec": {
      "name": "python3",
      "display_name": "Python 3"
    },
    "language_info": {
      "name": "python"
    }
  },
  "cells": [
    {
      "cell_type": "markdown",
      "metadata": {
        "id": "view-in-github",
        "colab_type": "text"
      },
      "source": [
        "<a href=\"https://colab.research.google.com/github/alyarh-11/SitemPakar_CF_-_FuzzyLogic/blob/main/Certainty_Factor.ipynb\" target=\"_parent\"><img src=\"https://colab.research.google.com/assets/colab-badge.svg\" alt=\"Open In Colab\"/></a>"
      ]
    },
    {
      "cell_type": "code",
      "execution_count": 6,
      "metadata": {
        "colab": {
          "base_uri": "https://localhost:8080/"
        },
        "id": "O3jsbgqF2W-_",
        "outputId": "1419633b-0d75-480d-894f-a1617e151287"
      },
      "outputs": [
        {
          "output_type": "stream",
          "name": "stdout",
          "text": [
            "CF diagnosis Flu: 0.98\n",
            "CF diagnosis Flu (setelah demam diubah jadi 0.2): 0.96\n"
          ]
        }
      ],
      "source": [
        "#gejala user dengan nilai CF baru\n",
        "gejala_user = {\n",
        "    \"demam\": 0.7,\n",
        "    \"batuk\": 0.6,\n",
        "    \"sakit_tenggorokan\": 0.8,\n",
        "#menambahkan 5 gejala baru beserta nilai CF nya.\n",
        "    \"pilek\": 0.7,\n",
        "    \"sakit_kepala\": 0.5,\n",
        "    \"lelah\": 0.6,\n",
        "    \"bersin\": 0.4,\n",
        "    \"pegal\": 0.5\n",
        "}\n",
        "\n",
        "#pengetahuan pakar terkait penyakit 'flu'\n",
        "pengetahuan = {\n",
        "    \"flu\": {\n",
        "        \"demam\": 0.8,\n",
        "        \"batuk\": 0.7,\n",
        "        \"sakit_tenggorokan\": 0.6,\n",
        "        \"pilek\": 0.7,\n",
        "        \"sakit_kepala\": 0.5,\n",
        "        \"lelah\": 0.6,\n",
        "        \"bersin\": 0.4,\n",
        "        \"pegal\": 0.5\n",
        "    }\n",
        "}\n",
        "\n",
        "#menghitung CF total menggunakan metode kombinasi\n",
        "def hitung_cf(gejala_user, pengetahuan_pakar):\n",
        "    cf_total = 0\n",
        "    first = True\n",
        "    for gejala, cf_user in gejala_user.items():\n",
        "        if gejala in pengetahuan_pakar:\n",
        "            cf_pakar = pengetahuan_pakar[gejala]\n",
        "            cf = cf_user * cf_pakar\n",
        "            if first:\n",
        "                cf_total = cf\n",
        "                first = False\n",
        "            else:\n",
        "                cf_total = cf_total + cf * (1 - cf_total)\n",
        "    return cf_total\n",
        "\n",
        "#menghitung CF awal untuk diagnosis flu\n",
        "cf_flu = hitung_cf(gejala_user, pengetahuan[\"flu\"])\n",
        "print(f\"CF diagnosis Flu: {cf_flu:.2f}\")\n",
        "\n",
        "#mengubah nilai demam menjadi 0.2\n",
        "gejala_user[\"demam\"] = 0.2\n",
        "\n",
        "#menghitung CF setelah nilai demam dirubah\n",
        "cf_flu_perubahan = hitung_cf(gejala_user, pengetahuan[\"flu\"])\n",
        "print(f\"CF diagnosis Flu (setelah demam diubah jadi 0.2): {cf_flu_perubahan:.2f}\")\n",
        "\n",
        "\n"
      ]
    },
    {
      "cell_type": "markdown",
      "source": [
        "Hasil diagnosis flu pada sistem pakar ini disebabkan oleh penurunan nilai kepercayaan terhadap *demam*, dari 0,7 menjadi 0,2. Gejala *demam* memiliki bobot pakar yang tinggi, yaitu 0,8, sehingga awalnya memberikan kontribusi yang signifikan terhadap total CF (0,7 × 0,8 = 0,56). Setelah nilain dikurangi menjadi 0,2, kontribusinya meningkat drastis menjadi 0,16.\n",
        "Karena metode Certainty Factor menghitung total secara langsung dan menimbang dampak setiap kasus menurut bobot pakarnya, penurunan pada kasus kritis, seperti *demam*, secara diam-diam menjalankan akhir keyakinan sistem terkait diagnosis flu.\n",
        "Jikapun ada beberapa gejala baru, seperti pilek, sakit kepala, lelah, bersin, dan pegal telah, kontribusinya tidak mampu mengimbangi penurunan demam karena masing-masing gejala tersebut mempunyai bobot pakar yang lebih signifikan dibandingkan dengan demam, dan sebagai hasilnya, hasil diagnosis akhir CF dengan jelas memperlihatkan bahwa dalam sistem pakar berdasarkan CF, pakar utama atau yang paling relevan mempunyai pengaruh yang signifikan terhadap keputusan akhir, dan perubahan kecil pada gejala utama yang utama dapat memberikan kontribusi yang signifikan.\n"
      ],
      "metadata": {
        "id": "coNJzpaJ7ll5"
      }
    }
  ]
}